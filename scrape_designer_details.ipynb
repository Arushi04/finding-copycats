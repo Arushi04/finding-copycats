{
 "cells": [
  {
   "cell_type": "code",
   "execution_count": 183,
   "metadata": {},
   "outputs": [],
   "source": [
    "import requests\n",
    "import urllib.request\n",
    "import time\n",
    "from bs4 import BeautifulSoup\n",
    "import csv"
   ]
  },
  {
   "cell_type": "code",
   "execution_count": 184,
   "metadata": {},
   "outputs": [],
   "source": [
    "root = 'https://www.dexigner.com'\n",
    "root_url = 'https://www.dexigner.com/directory/cat/Furniture-Design/Designers'\n",
    "root_url2 = 'https://www.dexigner.com/directory/cat/Furniture-Design/Designers/2'\n",
    "root_url3 = 'https://www.dexigner.com/directory/cat/Furniture-Design/Designers/3'"
   ]
  },
  {
   "cell_type": "code",
   "execution_count": 185,
   "metadata": {},
   "outputs": [],
   "source": [
    "def get_response(url):\n",
    "    response = requests.get(url)\n",
    "    soup = BeautifulSoup(response.text, \"html.parser\")\n",
    "    return soup"
   ]
  },
  {
   "cell_type": "code",
   "execution_count": 189,
   "metadata": {},
   "outputs": [
    {
     "name": "stdout",
     "output_type": "stream",
     "text": [
      "20\n",
      "13\n",
      "20\n",
      "20\n"
     ]
    }
   ],
   "source": [
    "#Extract names, address, websites and the urls to crawl for getting the contact number\n",
    "\n",
    "names = []\n",
    "location = []\n",
    "site = []\n",
    "url_to_visit = set()\n",
    "soup = get_response(root_url3)\n",
    "\n",
    "rows = soup.findAll(\"div\", {\"class\": \"item\"})\n",
    "locations = soup.find_all(\"address\", {'class': 'location'})\n",
    "websites = soup.find_all(\"p\", {'class': 'inline'})\n",
    "\n",
    "for row in rows:\n",
    "    row = row.find('a')\n",
    "    name = row.get_text()\n",
    "    url = root + row['href']\n",
    "    names.append(name)\n",
    "    url_to_visit.add(url)\n",
    "  \n",
    "for address in locations:\n",
    "    address = address.get_text()\n",
    "    location.append(address)\n",
    "    \n",
    "for website in websites:\n",
    "    a_tag = website.find('a')\n",
    "    web = a_tag.get_text()  # website \n",
    "    site.append(web)\n",
    "    \n",
    "\n",
    "print(len(names))\n",
    "print(len(location))\n",
    "print(len(url_to_visit))\n",
    "print(len(site))"
   ]
  },
  {
   "cell_type": "code",
   "execution_count": 190,
   "metadata": {},
   "outputs": [
    {
     "name": "stdout",
     "output_type": "stream",
     "text": [
      "20\n"
     ]
    }
   ],
   "source": [
    "# Visit all the urls for getting the phone nos.\n",
    "\n",
    "contact = {}\n",
    "delay = 2\n",
    "for url in url_to_visit:\n",
    "    soup = get_response(url)\n",
    "    name = soup.find('h1').text\n",
    "    phone = soup.findAll('span')[0].get_text()\n",
    "    contact[name] = phone\n",
    "    time.sleep(delay)\n",
    "\n",
    "print(len(contact))"
   ]
  },
  {
   "cell_type": "code",
   "execution_count": 191,
   "metadata": {},
   "outputs": [
    {
     "name": "stdout",
     "output_type": "stream",
     "text": [
      "{'Rose Horsangchai': '(626) 390-1829', 'Claudio Sibille': '+59899224595', 'Johnny Egg': '', 'Monica Armani': '', 'Alys Bryan': '+44 (0)798 974 0401', 'Dan Ihreborn': '', 'Rainer Mutsch': '+43 1 9418429', 'Robert Austin Gonzalez': '', 'Arno Kortschot': '', 'CJ And': '+61 411516903', 'Plodes Studio: John Paul Plauche': '', 'Miel Cardinael': '+32 9 324 37 55', 'Antoine Phelouzat': '', 'Eugenia Minerva': '+393383335878', 'Max Lamb': '', 'Syco Design': '', 'Sandro Lopez': '+39 (0)347 157 6772', 'Antonio Pascale': '', 'Max Longin': '', 'Charlie Crowther-Smith': '07846161840'}\n"
     ]
    }
   ],
   "source": [
    "print(contact)"
   ]
  },
  {
   "cell_type": "code",
   "execution_count": 193,
   "metadata": {},
   "outputs": [
    {
     "name": "stdout",
     "output_type": "stream",
     "text": [
      "[{'Name': 'Charlie Crowther-Smith', 'Website': 'charliecrowther-smith.com', 'Location': 'ABC', 'Contact': '07846161840'}, {'Name': 'Eugenia Minerva', 'Website': 'me-design.it', 'Location': 'ABC', 'Contact': '+393383335878'}, {'Name': 'Rose Horsangchai', 'Website': 'anukun.com', 'Location': 'ABC', 'Contact': '(626) 390-1829'}, {'Name': 'CJ And', 'Website': 'cjand.com', 'Location': 'ABC', 'Contact': '+61 411516903'}, {'Name': 'Antoine Phelouzat', 'Website': 'antoinephelouzat.com', 'Location': 'ABC', 'Contact': ''}, {'Name': 'Alys Bryan', 'Website': 'alysbryan.co.uk', 'Location': 'ABC', 'Contact': '+44 (0)798 974 0401'}, {'Name': 'Sandro Lopez', 'Website': 'sandrolopez.com', 'Location': 'ABC', 'Contact': '+39 (0)347 157 6772'}, {'Name': 'Miel Cardinael', 'Website': 'mielcardinael.be', 'Location': 'ABC', 'Contact': '+32 9 324 37 55'}, {'Name': 'Claudio Sibille', 'Website': 'csibille.com', 'Location': 'ABC', 'Contact': '+59899224595'}, {'Name': 'Max Lamb', 'Website': 'maxlamb.org', 'Location': 'ABC', 'Contact': ''}, {'Name': 'Johnny Egg', 'Website': 'johnnyegg.com', 'Location': 'ABC', 'Contact': ''}, {'Name': 'Monica Armani', 'Website': 'monica-armani.com', 'Location': 'ABC', 'Contact': ''}, {'Name': 'Antonio Pascale', 'Website': 'antoniopascale.it', 'Location': 'ABC', 'Contact': ''}, {'Name': 'Plodes Studio: John Paul Plauche', 'Website': 'plodes.com', 'Location': 'ABC', 'Contact': ''}, {'Name': 'Syco Design', 'Website': 'syco.uk.com', 'Location': 'ABC', 'Contact': ''}, {'Name': 'Max Longin', 'Website': 'max-longin.com', 'Location': 'ABC', 'Contact': ''}, {'Name': 'Arno Kortschot', 'Website': 'artuse.nl', 'Location': 'ABC', 'Contact': ''}, {'Name': 'Dan Ihreborn', 'Website': 'danihreborn.com', 'Location': 'ABC', 'Contact': ''}, {'Name': 'Robert Austin Gonzalez', 'Website': 'robertaustingonzalez.com', 'Location': 'ABC', 'Contact': ''}, {'Name': 'Rainer Mutsch', 'Website': 'rainermutsch.net', 'Location': 'ABC', 'Contact': '+43 1 9418429'}]\n"
     ]
    }
   ],
   "source": [
    "#Creating a dictionary with all details\n",
    "details = []\n",
    "\n",
    "for i in range(len(names)):\n",
    "    details.append({\"Name\": names[i], \"Website\": site[i], \"Location\": 'ABC', \"Contact\": contact[names[i]]})\n",
    "print(details)"
   ]
  },
  {
   "cell_type": "code",
   "execution_count": 194,
   "metadata": {},
   "outputs": [
    {
     "name": "stdout",
     "output_type": "stream",
     "text": [
      "20\n"
     ]
    }
   ],
   "source": [
    "print(len(details))"
   ]
  },
  {
   "cell_type": "code",
   "execution_count": 195,
   "metadata": {},
   "outputs": [
    {
     "name": "stdout",
     "output_type": "stream",
     "text": [
      "done\n"
     ]
    }
   ],
   "source": [
    "#Writing to csv\n",
    "\n",
    "csv_columns = ['Name', 'Website', 'Location', 'Contact']\n",
    "data = details\n",
    "csv_file = \"designer_details.csv\"\n",
    "try:\n",
    "    with open(csv_file, 'a') as csvfile:\n",
    "        writer = csv.DictWriter(csvfile, fieldnames=csv_columns)\n",
    "        #writer.writeheader()\n",
    "        for row in data:\n",
    "            writer.writerow(row)\n",
    "except IOError:\n",
    "    print(\"I/O error\")\n",
    "\n",
    "print(\"done\")"
   ]
  }
 ],
 "metadata": {
  "kernelspec": {
   "display_name": "Python 3",
   "language": "python",
   "name": "python3"
  },
  "language_info": {
   "codemirror_mode": {
    "name": "ipython",
    "version": 3
   },
   "file_extension": ".py",
   "mimetype": "text/x-python",
   "name": "python",
   "nbconvert_exporter": "python",
   "pygments_lexer": "ipython3",
   "version": "3.7.7"
  }
 },
 "nbformat": 4,
 "nbformat_minor": 4
}
